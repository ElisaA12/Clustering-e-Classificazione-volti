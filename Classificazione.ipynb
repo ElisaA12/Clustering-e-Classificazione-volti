{
 "cells": [
  {
   "cell_type": "markdown",
   "metadata": {},
   "source": [
    "In questo script andiamo a fare classificazione e a confrontare i valori ottenuti con quelli del clustering.\n",
    "Per avere una migliore divisione dei dati attuiamo sia PCA che LDA per estrarre le feature e come classificatore KNN.\n",
    "Andremo ad utilizzare un vettore di labal creato da me rappresentate i target dei punti delle classi *Maschio* e *Femmina*."
   ]
  },
  {
   "cell_type": "code",
   "execution_count": 8,
   "metadata": {},
   "outputs": [],
   "source": [
    "from statistics import mean\n",
    "from PIL import Image, ImageOps, ImageEnhance\n",
    "import glob\n",
    "import os\n",
    "from os import listdir\n",
    "import cv2 as cv\n",
    "from matplotlib import pyplot as plt\n",
    "from mpl_toolkits.mplot3d import Axes3D\n",
    "from matplotlib import image as mpimg\n",
    "import numpy as geek\n",
    "import numpy.matlib\n",
    "import cv2\n",
    "import zipfile\n",
    "import numpy as np\n",
    "from pathlib import Path\n",
    "from numpy.linalg import inv\n",
    "from numpy.linalg import eigh\n",
    "import matplotlib.pyplot as plt\n",
    "import scipy.linalg as la\n",
    "\n",
    "from sklearn.preprocessing import StandardScaler\n",
    "\n",
    "import eigen_training\n",
    "import Kmeans\n",
    "import Knn\n",
    "import time\n",
    "import pandas as pd\n",
    "import zipfile\n",
    "from skimage import color\n",
    "from sklearn.model_selection import train_test_split\n",
    "import seaborn as sb\n",
    "from tqdm import tqdm"
   ]
  },
  {
   "cell_type": "code",
   "execution_count": 9,
   "metadata": {},
   "outputs": [],
   "source": [
    "# Funzione che mi permette di ritornare gli indici associati ad un valore\n",
    "def indices(a, func):\n",
    "    return [i for (i, val) in enumerate(a) if func(val)]"
   ]
  },
  {
   "cell_type": "code",
   "execution_count": 10,
   "metadata": {},
   "outputs": [],
   "source": [
    "# Funzione che mi converte i numeri immaginari in reali\n",
    "def pop_imaginary_part(data):\n",
    "    x = pd.DataFrame(columns=data.columns)\n",
    "    for i in data.index:\n",
    "        for j in data.columns:\n",
    "            x.loc[i,j] = data.iloc[i,j].real\n",
    "    return x\n"
   ]
  },
  {
   "cell_type": "code",
   "execution_count": 11,
   "metadata": {},
   "outputs": [],
   "source": [
    "# Funzione che esegue PCA\n",
    "def PCA_Scratch(X,T):   \n",
    "    autovettori, autovalori = eigen_training.eigen(X)\n",
    "    U = autovettori[:,0:T]\n",
    "    X_pca = np.dot(U.T, X)\n",
    "    return X_pca, U, autovalori"
   ]
  },
  {
   "cell_type": "code",
   "execution_count": 12,
   "metadata": {},
   "outputs": [],
   "source": [
    "\n",
    "def LDA_Scratch(X,y_train,K, T):\n",
    "\n",
    "    l = np.array(y_train) #array delle classi per ogni immagine\n",
    "    \n",
    "    Ck = {} #dizionario con un numero di chiami pari alle classi e per ogni chiave contiene come items gli array di pixel di ogni immagine associata a quella classe\n",
    "    for k in range(K):\n",
    "        #a = np.argwhere(l== k)\n",
    "        b = indices(l, lambda x: x==k)\n",
    "        #print(b)\n",
    "        Ck[k] = X[:,b]\n",
    "\n",
    "\n",
    "    mk= {}\n",
    "    for k in range(K):\n",
    "        mk[k] = np.mean(Ck[k],axis=1)\n",
    "        mk[k].shape = [mk[k].shape[0],1]\n",
    "\n",
    "\n",
    "    Nk = {}\n",
    "    for k in range(K):\n",
    "        d, Nk[k] = Ck[k].shape\n",
    "\n",
    "\n",
    "    #print(d) #deve essere i dim T\n",
    "    #print(Nk) #Nk conterrà due classi con il numero di elementi per ogni classe\n",
    "\n",
    "    # Swx = S[1] + S[2]\n",
    "    S={}\n",
    "    for k in range(K):\n",
    "        S[k]= 0\n",
    "        for i in range(Nk[k]):\n",
    "            S[k] = S[k] + np.dot(Ck[k][:,i:i+1] - mk[k], np.transpose(Ck[k][:,i:i+1]-mk[k]))\n",
    "        \n",
    "        S[k] = S[k]/Nk[k]\n",
    "\n",
    "    Swx = 0\n",
    "    for k in range(K):\n",
    "        Swx = Swx + S[k]\n",
    "\n",
    "    m = np.mean(X,1) #media totale\n",
    "    m.shape = [m.shape[0],1]\n",
    "    Sbx = 0\n",
    "\n",
    "    # mk[k]     dim: (20,)\n",
    "    # m         dim: (20,)\n",
    "\n",
    "    for k in range(K):\n",
    "        Sbx = Sbx + np.dot(Nk[k], np.dot(mk[k]-m, np.transpose(mk[k]-m)))\n",
    "\n",
    "    Sbx = Sbx/K\n",
    "    Ma = np.dot(inv(Swx),Sbx)\n",
    "\n",
    "    D, V= la.eig(Ma)\n",
    "\n",
    "    A = V[:,0:T]\n",
    "    Y = np.dot(np.transpose(A) , X)\n",
    "\n",
    "    return Y\n",
    "\n",
    "\n"
   ]
  },
  {
   "cell_type": "markdown",
   "metadata": {},
   "source": [
    "# Images prepare"
   ]
  },
  {
   "cell_type": "code",
   "execution_count": 13,
   "metadata": {},
   "outputs": [
    {
     "name": "stdout",
     "output_type": "stream",
     "text": [
      "Numero di immagini:  20000\n",
      "Numero immagini dopo la selezione:  4709\n"
     ]
    }
   ],
   "source": [
    "#------------------------------\n",
    "# keypoint_loc : file contenente per ogni immagine i punti che delineano la figura della persona\n",
    "# verranno utilizzati per ridimensionare l'immagine al solo viso\n",
    "key_points={}\n",
    "file = open(\"keypoints/keypoints_loc.txt\", \"r\")\n",
    "lines = file.readlines()\n",
    "file.close()\n",
    "\n",
    "for data in lines:\n",
    "    key_points[data.split()[0]] = data.split()\n",
    "#------------------------------\n",
    " \n",
    "\n",
    "faces={} #dizionario contenente le immagini come items e il loro nome come key\n",
    "label_gender= [] # lista delle classi associate ad ogni immagine\n",
    "\n",
    "with zipfile.ZipFile('images.zip', 'r') as facezip:\n",
    "    \n",
    "    # prendiamo solo 20000 immagini per impiegare meno tempo nel processamento di queste\n",
    "    female = facezip.namelist()[-10000:]\n",
    "    male = facezip.namelist()[:10000]\n",
    "    image = [*male, *female]\n",
    "\n",
    "    # scommentare e commentare la parte sopra per prenderle tutte (numero totale di immagini: 44053)\n",
    "    #image = facezip.namelist()\n",
    "\n",
    "    print(\"Numero di immagini: \", len(image) )\n",
    "\n",
    "    for img in image :\n",
    "        if not img.endswith(\".jpg\"):\n",
    "            continue\n",
    "        with facezip.open(img) as image:\n",
    "            \n",
    "            n = img.split(\"/\")\n",
    "            name =n[1]\n",
    "            point= key_points.get(name)\n",
    "\n",
    "            if(point != None):\n",
    "                point1y= int(point[2]) \n",
    "                point1x = int(point[3]) -12\n",
    "                img_pil = Image.open(image).convert('L')\n",
    "\n",
    "                #ritaglio l'immagine con crop secondo l'area specificata dai punti presi in keypoints_loc\n",
    "                area =(point1x,point1y, point1x+115, point1y+150)\n",
    "                cropped_img = img_pil.crop(area) \n",
    "                data = np.asarray(cropped_img)\n",
    "                \n",
    "                if data.size != 0:\n",
    "                    if(name[:3] == \"MEN\"):\n",
    "                        label_gender.append(0)\n",
    "                    else:\n",
    "                        label_gender.append(1)\n",
    "                    faces[name]=data\n",
    "\n",
    "#------------------------------------\n",
    "# al termine del processo otterremo un numero di immagini minore rispetto all'inizio poichè nel mentre \n",
    "# si sono eliminate le immagini che risultavano senza volto con data.zie !=0\n",
    "print(\"Numero immagini dopo la selezione: \",len(faces))\n",
    "\n",
    "\n",
    "#creo una matrice TMP con le immagini sulle colonne\n",
    "facelist= list(faces.items())\n",
    "row,col= facelist[1][1].shape\n",
    "TMP = np.zeros((row*col, len(facelist)))\n",
    "i=0\n",
    "while i<len(facelist):\n",
    "    tmp = facelist[i][1]\n",
    "    tmp = np.reshape(tmp,(-1,1)) \n",
    "    TMP[:,i] = tmp.flatten()\n",
    "    i+=1\n",
    "\n"
   ]
  },
  {
   "cell_type": "markdown",
   "metadata": {},
   "source": [
    "### Plot Image\n",
    "Per visualizzare le immagini"
   ]
  },
  {
   "cell_type": "code",
   "execution_count": 14,
   "metadata": {},
   "outputs": [
    {
     "data": {
      "text/plain": [
       "'list_tmp = list(faces.items())\\nprint(list_tmp[1][1].shape)\\n\\nfig=plt.figure(figsize=(100, 500))\\ncol=5\\nrow=135\\nfor i in range(1,col*row +1):\\n    img= list_tmp[i][1]\\n    \\n    fig.add_subplot(row, col, i)\\n    plt.imshow(img)\\nplt.show\\n'"
      ]
     },
     "execution_count": 14,
     "metadata": {},
     "output_type": "execute_result"
    }
   ],
   "source": [
    "\n",
    "\"\"\"list_tmp = list(faces.items())\n",
    "print(list_tmp[1][1].shape)\n",
    "\n",
    "fig=plt.figure(figsize=(100, 500))\n",
    "col=5\n",
    "row=135\n",
    "for i in range(1,col*row +1):\n",
    "    img= list_tmp[i][1]\n",
    "    \n",
    "    fig.add_subplot(row, col, i)\n",
    "    plt.imshow(img)\n",
    "plt.show\n",
    "\"\"\""
   ]
  },
  {
   "cell_type": "markdown",
   "metadata": {},
   "source": [
    "### Plot image point"
   ]
  },
  {
   "cell_type": "code",
   "execution_count": 15,
   "metadata": {},
   "outputs": [],
   "source": [
    "#creo un DataFrame data che ha le immagini sulle righe \n",
    "data_TMP= pd.DataFrame(TMP.T)\n",
    "#data.head()"
   ]
  },
  {
   "cell_type": "code",
   "execution_count": 16,
   "metadata": {},
   "outputs": [
    {
     "name": "stdout",
     "output_type": "stream",
     "text": [
      "(150, 115)\n"
     ]
    },
    {
     "data": {
      "image/png": "[encoded data removed]",
      "text/plain": [
       "<Figure size 432x288 with 1 Axes>"
      ]
     },
     "metadata": {
      "needs_background": "light"
     },
     "output_type": "display_data"
    }
   ],
   "source": [
    "sb.scatterplot(data= data_TMP, x=0, y=1)\n",
    "print(data.shape)"
   ]
  },
  {
   "cell_type": "markdown",
   "metadata": {},
   "source": [
    "# PCA"
   ]
  },
  {
   "cell_type": "markdown",
   "metadata": {},
   "source": [
    "Andiamo a ridurre la dimensionalità delle immagini con PCA"
   ]
  },
  {
   "cell_type": "code",
   "execution_count": 17,
   "metadata": {},
   "outputs": [],
   "source": [
    "# Standardizzo i dati rimuovendo la media e ridimensionando in base alla varianza unitaria.\n",
    "# fit: Calcola la media e lo std da utilizzare per il ridimensionamento successivo.\n",
    "# transform: Eseguire la standardizzazione centrando e ridimensionando.\n",
    "scaler = StandardScaler()\n",
    "scaler.fit(data_TMP)\n",
    "X = scaler.transform(data_TMP)"
   ]
  },
  {
   "cell_type": "code",
   "execution_count": 18,
   "metadata": {},
   "outputs": [
    {
     "name": "stdout",
     "output_type": "stream",
     "text": [
      "(4709, 4709)\n"
     ]
    }
   ],
   "source": [
    "X_pca, U, autovalori= PCA_Scratch(X.T,90) #immagini per colonne"
   ]
  },
  {
   "cell_type": "code",
   "execution_count": 19,
   "metadata": {},
   "outputs": [
    {
     "data": {
      "text/plain": [
       "[<matplotlib.lines.Line2D at 0x294614332e0>]"
      ]
     },
     "execution_count": 19,
     "metadata": {},
     "output_type": "execute_result"
    },
    {
     "data": {
      "image/png": "[encoded data removed]",
      "text/plain": [
       "<Figure size 432x288 with 1 Axes>"
      ]
     },
     "metadata": {
      "needs_background": "light"
     },
     "output_type": "display_data"
    }
   ],
   "source": [
    "y = np.cumsum(autovalori)/np.sum(autovalori)\n",
    "fig = plt.figure()\n",
    "ax = plt.axes()\n",
    "ax.plot(y)"
   ]
  },
  {
   "cell_type": "markdown",
   "metadata": {},
   "source": [
    "# LDA"
   ]
  },
  {
   "cell_type": "code",
   "execution_count": 20,
   "metadata": {},
   "outputs": [],
   "source": [
    "K=2\n",
    "T=1\n",
    "X_lda= LDA_Scratch(X_pca, label_gender,K, T)"
   ]
  },
  {
   "cell_type": "markdown",
   "metadata": {},
   "source": [
    "# Plot PCA image point"
   ]
  },
  {
   "cell_type": "code",
   "execution_count": 21,
   "metadata": {},
   "outputs": [
    {
     "name": "stdout",
     "output_type": "stream",
     "text": [
      "(4709, 90)\n"
     ]
    }
   ],
   "source": [
    "X_pca= X_pca.T  # traspongo le immagini per righe\n",
    "print(X_pca.shape) #vediamo che abbiamo ridotto la dimensionalità delle immagini\n",
    "# X_pca : N x D   (N: numero immagini , D: dimensionalità)"
   ]
  },
  {
   "cell_type": "code",
   "execution_count": 22,
   "metadata": {},
   "outputs": [
    {
     "data": {
      "text/plain": [
       "<AxesSubplot:xlabel='0', ylabel='1'>"
      ]
     },
     "execution_count": 22,
     "metadata": {},
     "output_type": "execute_result"
    },
    {
     "data": {
      "image/png": "[encoded data removed]",
      "text/plain": [
       "<Figure size 432x288 with 1 Axes>"
      ]
     },
     "metadata": {
      "needs_background": "light"
     },
     "output_type": "display_data"
    }
   ],
   "source": [
    "data_pca= pd.DataFrame(X_pca)\n",
    "sb.scatterplot(data= data_pca, x=0, y=1)"
   ]
  },
  {
   "cell_type": "code",
   "execution_count": 23,
   "metadata": {},
   "outputs": [],
   "source": [
    "pca=pop_imaginary_part(data_pca)"
   ]
  },
  {
   "cell_type": "code",
   "execution_count": 24,
   "metadata": {},
   "outputs": [
    {
     "data": {
      "text/plain": [
       "<seaborn.axisgrid.FacetGrid at 0x2945dcb8640>"
      ]
     },
     "execution_count": 24,
     "metadata": {},
     "output_type": "execute_result"
    },
    {
     "data": {
      "image/png": "[encoded data removed]",
      "text/plain": [
       "<Figure size 540x360 with 1 Axes>"
      ]
     },
     "metadata": {},
     "output_type": "display_data"
    }
   ],
   "source": [
    "sb.set_style('white')\n",
    "sb.set_context(\"paper\", font_scale = 2)\n",
    "sb.displot(data= pca, x=0, kind=\"hist\", bins = 100, aspect = 1.5)"
   ]
  },
  {
   "cell_type": "markdown",
   "metadata": {},
   "source": [
    "# Plot LDA image point"
   ]
  },
  {
   "cell_type": "code",
   "execution_count": 25,
   "metadata": {},
   "outputs": [],
   "source": [
    "X_lda=X_lda.T #ritraspongo le immagini per righe"
   ]
  },
  {
   "cell_type": "code",
   "execution_count": 26,
   "metadata": {},
   "outputs": [
    {
     "name": "stderr",
     "output_type": "stream",
     "text": [
      "c:\\Users\\elisa\\anaconda3\\lib\\site-packages\\matplotlib\\collections.py:200: ComplexWarning: Casting complex values to real discards the imaginary part\n",
      "  offsets = np.asanyarray(offsets, float)\n"
     ]
    },
    {
     "data": {
      "text/plain": [
       "<AxesSubplot:xlabel='0'>"
      ]
     },
     "execution_count": 26,
     "metadata": {},
     "output_type": "execute_result"
    },
    {
     "data": {
      "image/png": "[encoded data removed]",
      "text/plain": [
       "<Figure size 432x288 with 1 Axes>"
      ]
     },
     "metadata": {},
     "output_type": "display_data"
    }
   ],
   "source": [
    "data_lda= pd.DataFrame(X_lda)\n",
    "sb.scatterplot(data= data_lda, x=0, y=1)"
   ]
  },
  {
   "cell_type": "code",
   "execution_count": 27,
   "metadata": {},
   "outputs": [],
   "source": [
    "lda=pop_imaginary_part(data_lda)"
   ]
  },
  {
   "cell_type": "code",
   "execution_count": 28,
   "metadata": {},
   "outputs": [
    {
     "data": {
      "text/plain": [
       "<seaborn.axisgrid.FacetGrid at 0x2944f00ea00>"
      ]
     },
     "execution_count": 28,
     "metadata": {},
     "output_type": "execute_result"
    },
    {
     "data": {
      "image/png": "[encoded data removed]",
      "text/plain": [
       "<Figure size 540x360 with 1 Axes>"
      ]
     },
     "metadata": {},
     "output_type": "display_data"
    }
   ],
   "source": [
    "sb.set_style('white')\n",
    "sb.set_context(\"paper\", font_scale = 2)\n",
    "sb.displot(data= lda, x=0, kind=\"hist\", bins = 100, aspect = 1.5)"
   ]
  },
  {
   "cell_type": "markdown",
   "metadata": {},
   "source": [
    "Come vediamo, grazie a LDA si vede subito una netta differenza rispetto alla sola elaborazione dei dati con PCA. \n",
    "\n",
    "Infatti le classi saranno più evidenti, come possiamo vedere nell'istogramma sopra, le mode delle classi sono più marcate."
   ]
  },
  {
   "cell_type": "markdown",
   "metadata": {},
   "source": [
    "# Training"
   ]
  },
  {
   "cell_type": "code",
   "execution_count": 29,
   "metadata": {},
   "outputs": [],
   "source": [
    "train, test, train_label, test_label = train_test_split( data_lda, label_gender, test_size=1/7.0, random_state=0)"
   ]
  },
  {
   "cell_type": "code",
   "execution_count": 30,
   "metadata": {},
   "outputs": [],
   "source": [
    "X_train= train.to_numpy()"
   ]
  },
  {
   "cell_type": "code",
   "execution_count": 31,
   "metadata": {},
   "outputs": [
    {
     "data": {
      "text/plain": [
       "[1, 2, 4, 1009, 2018, 4036]"
      ]
     },
     "execution_count": 31,
     "metadata": {},
     "output_type": "execute_result"
    }
   ],
   "source": [
    "#sceglierò uno dei seguenti divisori per utilizzare k-fold e trovare il k con cui splittare il validation set\n",
    "from sympy import divisors\n",
    "divisors(X_train.shape[0])"
   ]
  },
  {
   "cell_type": "code",
   "execution_count": 32,
   "metadata": {},
   "outputs": [],
   "source": [
    "# K-Fold\n",
    "confmat_knn=np.zeros((K,K))\n",
    "k= 4\n",
    "test=0\n",
    "i=0\n",
    "while i< train.shape[0]:\n",
    "    #prendo un elemento come validation\n",
    "    validation= X_train[i:i+k,:]\n",
    "\n",
    "    # copio il training set ed elimino il validation\n",
    "    new_train= train.copy()\n",
    "    new_train= new_train.drop(new_train.index[i:i+k]).to_numpy()\n",
    "    \n",
    "    # elimino anche la label corrispondente al validation\n",
    "    new_label= train_label.copy()\n",
    "    del new_label[i:i+k]\n",
    "    for j in range(k):\n",
    "        classe= Knn.knn_init(new_train,validation[j:j+1,:], new_label,2,10)\n",
    "        confmat_knn[train_label[test],classe]=confmat_knn[train_label[test],classe]+1\n",
    "        test+=1\n",
    "    i= i+k\n",
    "\n",
    "\n"
   ]
  },
  {
   "cell_type": "code",
   "execution_count": 33,
   "metadata": {},
   "outputs": [
    {
     "name": "stdout",
     "output_type": "stream",
     "text": [
      "[[1118.  127.]\n",
      " [ 114. 2677.]]\n",
      "Accuratezza:  0.9402874132804757\n"
     ]
    }
   ],
   "source": [
    "print(confmat_knn)\n",
    "accuracy = (confmat_knn[0][0]+ confmat_knn[1][1]) / (confmat_knn[0][0]+confmat_knn[0][1]+confmat_knn[1][0]+ confmat_knn[1][1])\n",
    "print(\"Accuratezza: \", accuracy)"
   ]
  },
  {
   "cell_type": "markdown",
   "metadata": {},
   "source": [
    "Possiamo osservare un netto miglioramento sull'errore commesso durante il training, infatti ora abbiamo un'accuratezza di più del 90%"
   ]
  },
  {
   "cell_type": "markdown",
   "metadata": {},
   "source": [
    "# Testing"
   ]
  },
  {
   "cell_type": "code",
   "execution_count": 34,
   "metadata": {},
   "outputs": [],
   "source": [
    "train, test, train_label, test_label = train_test_split( data_lda, label_gender, test_size=1/7.0, random_state=0)"
   ]
  },
  {
   "cell_type": "code",
   "execution_count": 35,
   "metadata": {},
   "outputs": [],
   "source": [
    "X_train= train.to_numpy()\n",
    "X_test= test.to_numpy()\n"
   ]
  },
  {
   "cell_type": "code",
   "execution_count": 36,
   "metadata": {},
   "outputs": [
    {
     "name": "stderr",
     "output_type": "stream",
     "text": [
      "100%|██████████| 673/673 [00:15<00:00, 42.96it/s]\n"
     ]
    }
   ],
   "source": [
    "label_test=[]\n",
    "for i in tqdm(range(X_test.shape[0])):\n",
    "    y_test= Knn.knn_init(X_train,X_test[i:i+1,:],train_label,2,10)\n",
    "    label_test.append(y_test)\n",
    "    confmat_knn[test_label[i],y_test]=confmat_knn[test_label[i],y_test]+1\n"
   ]
  },
  {
   "cell_type": "code",
   "execution_count": 37,
   "metadata": {},
   "outputs": [
    {
     "name": "stdout",
     "output_type": "stream",
     "text": [
      "[[1315.  152.]\n",
      " [ 128. 3114.]]\n",
      "Accuratezza:  0.9405393926523679\n"
     ]
    }
   ],
   "source": [
    "print(confmat_knn)\n",
    "accuracy = (confmat_knn[0][0]+ confmat_knn[1][1]) / (confmat_knn[0][0]+confmat_knn[0][1]+confmat_knn[1][0]+ confmat_knn[1][1])\n",
    "print(\"Accuratezza: \", accuracy)"
   ]
  }
 ],
 "metadata": {
  "kernelspec": {
   "display_name": "Python 3.9.12 ('base')",
   "language": "python",
   "name": "python3"
  },
  "language_info": {
   "codemirror_mode": {
    "name": "ipython",
    "version": 3
   },
   "file_extension": ".py",
   "mimetype": "text/x-python",
   "name": "python",
   "nbconvert_exporter": "python",
   "pygments_lexer": "ipython3",
   "version": "3.9.12"
  },
  "orig_nbformat": 4,
  "vscode": {
   "interpreter": {
    "hash": "7ad5f07e47999a310a3dbc65802d3b3fe2a48b9a4836e8b2abc370029f0364e6"
   }
  }
 },
 "nbformat": 4,
 "nbformat_minor": 2
}
